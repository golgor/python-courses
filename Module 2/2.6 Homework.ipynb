{
 "cells": [
  {
   "cell_type": "markdown",
   "metadata": {},
   "source": [
    "## Homework - Module 2"
   ]
  },
  {
   "cell_type": "code",
   "execution_count": 2,
   "metadata": {},
   "outputs": [],
   "source": [
    "#Data \n",
    "revenue = [14574.49, 7606.46, 8611.41, 9175.41, 8058.65, 8105.44, 11496.28, 9766.09, 10305.32, 14379.96, 10713.97, 15433.50]\n",
    "expenses = [12051.82, 5695.07, 12319.20, 12089.72, 8658.57, 840.20, 3285.73, 5821.12, 6976.93, 16618.61, 10054.37, 3803.96]"
   ]
  },
  {
   "cell_type": "code",
   "execution_count": 3,
   "metadata": {},
   "outputs": [],
   "source": [
    "# profit for each month\n",
    "# profit after tax, tax rate is 30%\n",
    "# profit margin, profit after tax divided with revenue\n",
    "# good months, months where profit after tax was greater than mean for the year\n",
    "# bad months, months where profit after tax was lower than mean for the year\n",
    "# best month, month with highest revenue after tax\n",
    "# worst month, month with lowest revenue after tax"
   ]
  },
  {
   "cell_type": "code",
   "execution_count": 4,
   "metadata": {},
   "outputs": [],
   "source": [
    "import numpy as np"
   ]
  },
  {
   "cell_type": "code",
   "execution_count": 5,
   "metadata": {},
   "outputs": [],
   "source": [
    "revenue = np.array(revenue)\n",
    "expenses = np.array(expenses)"
   ]
  },
  {
   "cell_type": "markdown",
   "metadata": {},
   "source": [
    "---\n",
    "## Profit for each month"
   ]
  },
  {
   "cell_type": "code",
   "execution_count": 9,
   "metadata": {},
   "outputs": [
    {
     "name": "stdout",
     "output_type": "stream",
     "text": [
      "[ 2522.67  1911.39 -3707.79 -2914.31  -599.92  7265.24  8210.55  3944.97\n",
      "  3328.39 -2238.65   659.6  11629.54]\n"
     ]
    }
   ],
   "source": [
    "profit = revenue - expenses\n",
    "print(profit)"
   ]
  },
  {
   "cell_type": "markdown",
   "metadata": {},
   "source": [
    "## Profit after tax"
   ]
  },
  {
   "cell_type": "code",
   "execution_count": 11,
   "metadata": {},
   "outputs": [
    {
     "name": "stdout",
     "output_type": "stream",
     "text": [
      "[ 1765.87  1337.97 -2595.45 -2040.02  -419.94  5085.67  5747.38  2761.48\n",
      "  2329.87 -1567.06   461.72  8140.68]\n"
     ]
    }
   ],
   "source": [
    "profit_after_tax = np.round_(profit * (1-0.3), 2)\n",
    "print(profit_after_tax)"
   ]
  },
  {
   "cell_type": "markdown",
   "metadata": {},
   "source": [
    "## Profit margin"
   ]
  },
  {
   "cell_type": "code",
   "execution_count": 21,
   "metadata": {},
   "outputs": [
    {
     "name": "stdout",
     "output_type": "stream",
     "text": [
      "[ 12.12  17.59 -30.14 -22.23  -5.21  62.74  49.99  28.28  22.61 -10.9\n",
      "   4.31  52.75]\n"
     ]
    }
   ],
   "source": [
    "profit_margin = np.round_(profit_after_tax / revenue * 100, 2)\n",
    "print(profit_margin)"
   ]
  },
  {
   "cell_type": "markdown",
   "metadata": {},
   "source": [
    "## Good and bad months"
   ]
  },
  {
   "cell_type": "code",
   "execution_count": 31,
   "metadata": {},
   "outputs": [
    {
     "name": "stdout",
     "output_type": "stream",
     "text": [
      "Mean profit per month after taxes: 1750.6808333333336\n",
      "\n",
      "Good months: [True, False, False, False, False, True, True, True, True, False, False, True]\n",
      "Bad months: [False, True, True, True, True, False, False, False, False, True, True, False]\n"
     ]
    }
   ],
   "source": [
    "mean = profit_after_tax.mean()\n",
    "print(\"Mean profit per month after taxes: {}\\n\".format(mean))\n",
    "\n",
    "good_months = list()\n",
    "bad_months = list()\n",
    "\n",
    "for result in profit_after_tax:\n",
    "    good_months.append(result > mean)\n",
    "    bad_months.append(result < mean)\n",
    "\n",
    "print(\"Good months: {}\".format(good_months))\n",
    "print(\"Bad months: {}\".format(bad_months))"
   ]
  },
  {
   "cell_type": "markdown",
   "metadata": {},
   "source": [
    "## Best and worst month"
   ]
  },
  {
   "cell_type": "code",
   "execution_count": 20,
   "metadata": {},
   "outputs": [
    {
     "name": "stdout",
     "output_type": "stream",
     "text": [
      "Best month: 6\n",
      "Worst month: 3\n"
     ]
    }
   ],
   "source": [
    "best_month = np.argmax(profit_margin) + 1\n",
    "worst_month = np.argmin(profit_margin) + 1\n",
    "print(\"Best month: {}\".format(best_month))\n",
    "print(\"Worst month: {}\".format(worst_month))"
   ]
  },
  {
   "cell_type": "code",
   "execution_count": null,
   "metadata": {},
   "outputs": [],
   "source": []
  }
 ],
 "metadata": {
  "kernelspec": {
   "display_name": "Python 3",
   "language": "python",
   "name": "python3"
  },
  "language_info": {
   "codemirror_mode": {
    "name": "ipython",
    "version": 3
   },
   "file_extension": ".py",
   "mimetype": "text/x-python",
   "name": "python",
   "nbconvert_exporter": "python",
   "pygments_lexer": "ipython3",
   "version": "3.7.7"
  }
 },
 "nbformat": 4,
 "nbformat_minor": 4
}
