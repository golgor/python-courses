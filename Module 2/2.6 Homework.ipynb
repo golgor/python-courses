{
 "cells": [
  {
   "cell_type": "code",
   "execution_count": 53,
   "metadata": {},
   "outputs": [],
   "source": [
    "#Data \n",
    "revenue = [14574.49, 7606.46, 8611.41, 9175.41, 8058.65, 8105.44, 11496.28, 9766.09, 10305.32, 14379.96, 10713.97, 15433.50]\n",
    "expenses = [12051.82, 5695.07, 12319.20, 12089.72, 8658.57, 840.20, 3285.73, 5821.12, 6976.93, 16618.61, 10054.37, 3803.96]"
   ]
  },
  {
   "cell_type": "code",
   "execution_count": 54,
   "metadata": {},
   "outputs": [],
   "source": [
    "# profit for each month\n",
    "# profit after tax, tax rate is 30%\n",
    "# profit margin, profit after tax divided with revenue\n",
    "# good months, months where profit after tax was greater than mean for the year\n",
    "# bad months, months where profit after tax was lower than mean for the year\n",
    "# best month, month with highest revenue after tax\n",
    "# worst month, month with lowest revenue after tax"
   ]
  },
  {
   "cell_type": "code",
   "execution_count": 55,
   "metadata": {},
   "outputs": [],
   "source": [
    "import numpy as np"
   ]
  },
  {
   "cell_type": "code",
   "execution_count": 56,
   "metadata": {},
   "outputs": [],
   "source": [
    "revenue = np.array(revenue)\n",
    "expenses = np.array(expenses)"
   ]
  },
  {
   "cell_type": "code",
   "execution_count": 57,
   "metadata": {},
   "outputs": [],
   "source": [
    "profit = revenue - expenses"
   ]
  },
  {
   "cell_type": "code",
   "execution_count": 58,
   "metadata": {},
   "outputs": [],
   "source": [
    "profit_after_tax = np.round_(profit * (1-0.3), 2)"
   ]
  },
  {
   "cell_type": "code",
   "execution_count": 59,
   "metadata": {},
   "outputs": [],
   "source": [
    "profit_margin = np.round_(profit_after_tax / revenue * 100)"
   ]
  },
  {
   "cell_type": "code",
   "execution_count": 60,
   "metadata": {},
   "outputs": [
    {
     "data": {
      "text/plain": [
       "array([ 12.,  18., -30., -22.,  -5.,  63.,  50.,  28.,  23., -11.,   4.,\n",
       "        53.])"
      ]
     },
     "execution_count": 60,
     "metadata": {},
     "output_type": "execute_result"
    }
   ],
   "source": [
    "profit_margin"
   ]
  },
  {
   "cell_type": "code",
   "execution_count": 61,
   "metadata": {},
   "outputs": [],
   "source": [
    "best_month = np.argmax(profit_margin) + 1\n",
    "worst_month = np.argmin(profit_margin) + 1"
   ]
  },
  {
   "cell_type": "code",
   "execution_count": 62,
   "metadata": {},
   "outputs": [
    {
     "name": "stdout",
     "output_type": "stream",
     "text": [
      "[1765.87, 5085.67, 5747.38, 2761.48, 2329.87, 8140.68]\n",
      "[1337.97, -2595.45, -2040.02, -419.94, -1567.06, 461.72]\n"
     ]
    }
   ],
   "source": [
    "mean = profit_after_tax.mean()\n",
    "good_months = list()\n",
    "bad_months = list()\n",
    "for result in profit_after_tax:\n",
    "    if (result > mean):\n",
    "        good_months.append(result)\n",
    "    else:\n",
    "        bad_months.append(result)\n",
    "print(good_months)\n",
    "print(bad_months)"
   ]
  },
  {
   "cell_type": "code",
   "execution_count": null,
   "metadata": {},
   "outputs": [],
   "source": []
  }
 ],
 "metadata": {
  "kernelspec": {
   "display_name": "Python 3",
   "language": "python",
   "name": "python3"
  },
  "language_info": {
   "codemirror_mode": {
    "name": "ipython",
    "version": 3
   },
   "file_extension": ".py",
   "mimetype": "text/x-python",
   "name": "python",
   "nbconvert_exporter": "python",
   "pygments_lexer": "ipython3",
   "version": "3.7.7"
  }
 },
 "nbformat": 4,
 "nbformat_minor": 4
}
